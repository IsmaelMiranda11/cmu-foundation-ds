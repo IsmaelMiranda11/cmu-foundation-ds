{
 "cells": [
  {
   "cell_type": "markdown",
   "metadata": {},
   "source": [
    "# Unemployment in India and Credit Card Spendings"
   ]
  },
  {
   "cell_type": "markdown",
   "metadata": {},
   "source": [
    "We have data from two context:\n",
    "- Unemployment in India\n",
    "- Credit Card Spendings"
   ]
  },
  {
   "cell_type": "code",
   "execution_count": 4,
   "metadata": {},
   "outputs": [
    {
     "name": "stderr",
     "output_type": "stream",
     "text": [
      "c:\\Users\\ismae\\OneDrive\\Cursos\\AI ML DS CMU\\1. Foundation of Data Science\\cmu-ds-foundation\\.venv\\Lib\\site-packages\\tqdm\\auto.py:21: TqdmWarning: IProgress not found. Please update jupyter and ipywidgets. See https://ipywidgets.readthedocs.io/en/stable/user_install.html\n",
      "  from .autonotebook import tqdm as notebook_tqdm\n"
     ]
    }
   ],
   "source": [
    "import pandas as pd\n",
    "from ydata_profiling import ProfileReport"
   ]
  },
  {
   "cell_type": "markdown",
   "metadata": {},
   "source": [
    "## Load the data"
   ]
  },
  {
   "cell_type": "code",
   "execution_count": 5,
   "metadata": {},
   "outputs": [],
   "source": [
    "df_spendings = pd.read_csv(r'.\\kaggle\\input\\Credit card transactions - India - Simple.csv')\n",
    "df_unemployment = pd.read_csv(r'.\\kaggle\\input\\Unemployment in India.csv')"
   ]
  },
  {
   "cell_type": "markdown",
   "metadata": {},
   "source": [
    "## Profiling the data"
   ]
  },
  {
   "cell_type": "code",
   "execution_count": 6,
   "metadata": {},
   "outputs": [],
   "source": [
    "# Unployment data\n",
    "profile_unemployment = ProfileReport(df_unemployment, title='Unemployment in India', explorative=True)\n",
    "\n",
    "# Spendings data\n",
    "profile_spendings = ProfileReport(df_spendings, title='Credit card transactions - India - Simple', explorative=True)"
   ]
  },
  {
   "cell_type": "code",
   "execution_count": 8,
   "metadata": {},
   "outputs": [
    {
     "name": "stderr",
     "output_type": "stream",
     "text": [
      "Export report to file: 100%|██████████| 1/1 [00:00<00:00, 124.95it/s]\n",
      "Export report to file: 100%|██████████| 1/1 [00:00<00:00, 124.97it/s]\n"
     ]
    }
   ],
   "source": [
    "# Save the reports\n",
    "profile_unemployment.to_file(r'.\\profiles\\unemployment_data_profile.html')\n",
    "profile_spendings.to_file(r'.\\profiles\\spendings_data_profile.html')"
   ]
  }
 ],
 "metadata": {
  "kernelspec": {
   "display_name": ".venv",
   "language": "python",
   "name": "python3"
  },
  "language_info": {
   "codemirror_mode": {
    "name": "ipython",
    "version": 3
   },
   "file_extension": ".py",
   "mimetype": "text/x-python",
   "name": "python",
   "nbconvert_exporter": "python",
   "pygments_lexer": "ipython3",
   "version": "3.12.2"
  }
 },
 "nbformat": 4,
 "nbformat_minor": 2
}
