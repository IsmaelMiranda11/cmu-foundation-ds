{
 "cells": [
  {
   "cell_type": "markdown",
   "metadata": {},
   "source": [
    "# Unemployment in India and Credit Card Spendings"
   ]
  },
  {
   "cell_type": "markdown",
   "metadata": {},
   "source": [
    "We have data from two context:\n",
    "- Unemployment in India\n",
    "- Credit Card Spendings"
   ]
  },
  {
   "cell_type": "code",
   "execution_count": 19,
   "metadata": {},
   "outputs": [],
   "source": [
    "import pandas as pd\n",
    "from ydata_profiling import ProfileReport\n",
    "from tabulate import tabulate"
   ]
  },
  {
   "cell_type": "markdown",
   "metadata": {},
   "source": [
    "## Load the data"
   ]
  },
  {
   "cell_type": "code",
   "execution_count": 4,
   "metadata": {},
   "outputs": [],
   "source": [
    "df_spendings = pd.read_csv(r'.\\kaggle\\input\\Credit_card_transactions_with_noise_missing_dates_adjusted.csv')\n",
    "df_unemployment = pd.read_csv(r'.\\kaggle\\input\\Unemployment in India.csv')"
   ]
  },
  {
   "cell_type": "code",
   "execution_count": 5,
   "metadata": {},
   "outputs": [
    {
     "data": {
      "text/html": [
       "<div>\n",
       "<style scoped>\n",
       "    .dataframe tbody tr th:only-of-type {\n",
       "        vertical-align: middle;\n",
       "    }\n",
       "\n",
       "    .dataframe tbody tr th {\n",
       "        vertical-align: top;\n",
       "    }\n",
       "\n",
       "    .dataframe thead th {\n",
       "        text-align: right;\n",
       "    }\n",
       "</style>\n",
       "<table border=\"1\" class=\"dataframe\">\n",
       "  <thead>\n",
       "    <tr style=\"text-align: right;\">\n",
       "      <th></th>\n",
       "      <th>index</th>\n",
       "      <th>City</th>\n",
       "      <th>Date</th>\n",
       "      <th>Card Type</th>\n",
       "      <th>Exp Type</th>\n",
       "      <th>Gender</th>\n",
       "      <th>Amount</th>\n",
       "    </tr>\n",
       "  </thead>\n",
       "  <tbody>\n",
       "    <tr>\n",
       "      <th>0</th>\n",
       "      <td>0</td>\n",
       "      <td>Delhi, India</td>\n",
       "      <td>29-Oct-20</td>\n",
       "      <td>Gold</td>\n",
       "      <td>Bills</td>\n",
       "      <td>NaN</td>\n",
       "      <td>90060.0</td>\n",
       "    </tr>\n",
       "    <tr>\n",
       "      <th>1</th>\n",
       "      <td>1</td>\n",
       "      <td>Greater Mumbai, India</td>\n",
       "      <td>22-Aug-19</td>\n",
       "      <td>Platinum</td>\n",
       "      <td>Bills</td>\n",
       "      <td>F</td>\n",
       "      <td>29980.0</td>\n",
       "    </tr>\n",
       "    <tr>\n",
       "      <th>2</th>\n",
       "      <td>2</td>\n",
       "      <td>Bengaluru, India</td>\n",
       "      <td>27-Aug-20</td>\n",
       "      <td>Silver</td>\n",
       "      <td>Bills</td>\n",
       "      <td>F</td>\n",
       "      <td>111293.0</td>\n",
       "    </tr>\n",
       "    <tr>\n",
       "      <th>3</th>\n",
       "      <td>3</td>\n",
       "      <td>Greater Mumbai, India</td>\n",
       "      <td>12-Apr-20</td>\n",
       "      <td>NaN</td>\n",
       "      <td>Bills</td>\n",
       "      <td>F</td>\n",
       "      <td>116197.0</td>\n",
       "    </tr>\n",
       "    <tr>\n",
       "      <th>4</th>\n",
       "      <td>4</td>\n",
       "      <td>Bengaluru, India</td>\n",
       "      <td>05-May-19</td>\n",
       "      <td>Gold</td>\n",
       "      <td>Bills</td>\n",
       "      <td>F</td>\n",
       "      <td>162189.0</td>\n",
       "    </tr>\n",
       "  </tbody>\n",
       "</table>\n",
       "</div>"
      ],
      "text/plain": [
       "   index                   City       Date Card Type Exp Type Gender    Amount\n",
       "0      0           Delhi, India  29-Oct-20      Gold    Bills    NaN   90060.0\n",
       "1      1  Greater Mumbai, India  22-Aug-19  Platinum    Bills      F   29980.0\n",
       "2      2       Bengaluru, India  27-Aug-20    Silver    Bills      F  111293.0\n",
       "3      3  Greater Mumbai, India  12-Apr-20       NaN    Bills      F  116197.0\n",
       "4      4       Bengaluru, India  05-May-19      Gold    Bills      F  162189.0"
      ]
     },
     "execution_count": 5,
     "metadata": {},
     "output_type": "execute_result"
    }
   ],
   "source": [
    "df_spendings.head()"
   ]
  },
  {
   "cell_type": "code",
   "execution_count": 28,
   "metadata": {},
   "outputs": [
    {
     "data": {
      "text/html": [
       "<div>\n",
       "<style scoped>\n",
       "    .dataframe tbody tr th:only-of-type {\n",
       "        vertical-align: middle;\n",
       "    }\n",
       "\n",
       "    .dataframe tbody tr th {\n",
       "        vertical-align: top;\n",
       "    }\n",
       "\n",
       "    .dataframe thead th {\n",
       "        text-align: right;\n",
       "    }\n",
       "</style>\n",
       "<table border=\"1\" class=\"dataframe\">\n",
       "  <thead>\n",
       "    <tr style=\"text-align: right;\">\n",
       "      <th></th>\n",
       "      <th>Region</th>\n",
       "      <th>Date</th>\n",
       "      <th>Frequency</th>\n",
       "      <th>Estimated Unemployment Rate (%)</th>\n",
       "      <th>Estimated Employed</th>\n",
       "      <th>Estimated Labour Participation Rate (%)</th>\n",
       "      <th>Area</th>\n",
       "    </tr>\n",
       "  </thead>\n",
       "  <tbody>\n",
       "    <tr>\n",
       "      <th>0</th>\n",
       "      <td>Andhra Pradesh</td>\n",
       "      <td>31-05-2019</td>\n",
       "      <td>Monthly</td>\n",
       "      <td>3.65</td>\n",
       "      <td>11999139.0</td>\n",
       "      <td>43.24</td>\n",
       "      <td>Rural</td>\n",
       "    </tr>\n",
       "    <tr>\n",
       "      <th>1</th>\n",
       "      <td>Andhra Pradesh</td>\n",
       "      <td>30-06-2019</td>\n",
       "      <td>Monthly</td>\n",
       "      <td>3.05</td>\n",
       "      <td>11755881.0</td>\n",
       "      <td>42.05</td>\n",
       "      <td>Rural</td>\n",
       "    </tr>\n",
       "    <tr>\n",
       "      <th>2</th>\n",
       "      <td>Andhra Pradesh</td>\n",
       "      <td>31-07-2019</td>\n",
       "      <td>Monthly</td>\n",
       "      <td>3.75</td>\n",
       "      <td>12086707.0</td>\n",
       "      <td>43.50</td>\n",
       "      <td>Rural</td>\n",
       "    </tr>\n",
       "    <tr>\n",
       "      <th>3</th>\n",
       "      <td>Andhra Pradesh</td>\n",
       "      <td>31-08-2019</td>\n",
       "      <td>Monthly</td>\n",
       "      <td>3.32</td>\n",
       "      <td>12285693.0</td>\n",
       "      <td>43.97</td>\n",
       "      <td>Rural</td>\n",
       "    </tr>\n",
       "    <tr>\n",
       "      <th>4</th>\n",
       "      <td>Andhra Pradesh</td>\n",
       "      <td>30-09-2019</td>\n",
       "      <td>Monthly</td>\n",
       "      <td>5.17</td>\n",
       "      <td>12256762.0</td>\n",
       "      <td>44.68</td>\n",
       "      <td>Rural</td>\n",
       "    </tr>\n",
       "  </tbody>\n",
       "</table>\n",
       "</div>"
      ],
      "text/plain": [
       "           Region         Date  Frequency   Estimated Unemployment Rate (%)  \\\n",
       "0  Andhra Pradesh   31-05-2019    Monthly                              3.65   \n",
       "1  Andhra Pradesh   30-06-2019    Monthly                              3.05   \n",
       "2  Andhra Pradesh   31-07-2019    Monthly                              3.75   \n",
       "3  Andhra Pradesh   31-08-2019    Monthly                              3.32   \n",
       "4  Andhra Pradesh   30-09-2019    Monthly                              5.17   \n",
       "\n",
       "    Estimated Employed   Estimated Labour Participation Rate (%)   Area  \n",
       "0           11999139.0                                     43.24  Rural  \n",
       "1           11755881.0                                     42.05  Rural  \n",
       "2           12086707.0                                     43.50  Rural  \n",
       "3           12285693.0                                     43.97  Rural  \n",
       "4           12256762.0                                     44.68  Rural  "
      ]
     },
     "execution_count": 28,
     "metadata": {},
     "output_type": "execute_result"
    }
   ],
   "source": [
    "df_unemployment.head()"
   ]
  },
  {
   "cell_type": "markdown",
   "metadata": {},
   "source": [
    "## Project Area"
   ]
  },
  {
   "cell_type": "markdown",
   "metadata": {},
   "source": [
    "### What to do\n",
    "\n",
    "Spendings: \n",
    "\n",
    "- Add month column in spendings data\n",
    "- Split the city from each City row\n",
    "- Get a refdata to find the region of each city\n",
    "- Drop column of index  \n",
    "\n",
    "Unemployment:\n",
    "\n",
    "- Add month column in unemployment data\n",
    "- Drop missing values rows"
   ]
  },
  {
   "cell_type": "markdown",
   "metadata": {},
   "source": [
    "### Question\n",
    "\n",
    "Será que a taxa de desemprego influencia na utilização do cartão de crédito?\n",
    "\n",
    "- Audience: Gerentes de bancos, governo para controle da inflação, bancos para controle de risco de crédito.\n",
    "\n",
    "Not already answered:  \n",
    "Plausible:  \n",
    "Answerable:  \n",
    "Specific:  "
   ]
  },
  {
   "cell_type": "markdown",
   "metadata": {},
   "source": [
    "## Describing Mannualy and automatically:\n",
    "\n",
    "- Describe the dataset\n",
    "\n",
    "- Identify the most important information\n",
    "\n",
    "- Identify the missing data\n",
    "\n",
    "- Identify problems regarding data quality"
   ]
  },
  {
   "cell_type": "markdown",
   "metadata": {},
   "source": [
    "### Describe the dataset\n"
   ]
  },
  {
   "cell_type": "markdown",
   "metadata": {},
   "source": [
    "#### Automaticly with ydata-profiling"
   ]
  },
  {
   "cell_type": "code",
   "execution_count": 7,
   "metadata": {},
   "outputs": [],
   "source": [
    "# Unployment data\n",
    "profile_unemployment = ProfileReport(df_unemployment,\n",
    "                                     title='Unemployment in India',\n",
    "                                     explorative=True)\n",
    "\n",
    "# Spendings data\n",
    "profile_spendings = ProfileReport(df_spendings,\n",
    "                                  title='Credit card transactions - India - Simple',\n",
    "                                  explorative=True)\n",
    "\n",
    "# Save the reports\n",
    "profile_unemployment.to_file(r'.\\profiles\\unemployment_data_profile.html',\n",
    "                             silent=True)\n",
    "profile_spendings.to_file(r'.\\profiles\\spendings_data_profile.html',\n",
    "                          silent=True)"
   ]
  },
  {
   "cell_type": "markdown",
   "metadata": {},
   "source": [
    "#### Manually"
   ]
  },
  {
   "cell_type": "markdown",
   "metadata": {},
   "source": [
    "##### Describe"
   ]
  },
  {
   "cell_type": "markdown",
   "metadata": {},
   "source": [
    "Spending"
   ]
  },
  {
   "cell_type": "code",
   "execution_count": 22,
   "metadata": {},
   "outputs": [
    {
     "name": "stdout",
     "output_type": "stream",
     "text": [
      "+----------+---------+--------------------+--------------------+-------+---------+----------+----------+-----------+\n",
      "|          |  count  |        mean        |        std         |  min  |   25%   |   50%    |   75%    |    max    |\n",
      "+----------+---------+--------------------+--------------------+-------+---------+----------+----------+-----------+\n",
      "| df_index | 26052.0 |      13025.5       | 7520.708942646298  |  0.0  | 6512.75 | 13025.5  | 19538.25 |  26051.0  |\n",
      "|  Amount  | 24749.0 | 156607.69336134792 | 103632.26286556023 | 945.0 | 77131.0 | 152927.0 | 227364.0 | 1069713.0 |\n",
      "+----------+---------+--------------------+--------------------+-------+---------+----------+----------+-----------+\n",
      "+-----------+-------+--------+------------------+-------+\n",
      "|           | count | unique |       top        | freq  |\n",
      "+-----------+-------+--------+------------------+-------+\n",
      "|   City    | 24749 |  2892  | Bengaluru, India | 3057  |\n",
      "|   Date    | 24749 |  730   |    28-Jan-19     |  62   |\n",
      "| Card Type | 24749 |   4    |      Silver      | 6494  |\n",
      "| Exp Type  | 24749 |   6    |       Food       | 5195  |\n",
      "|  Gender   | 24749 |   2    |        F         | 13005 |\n",
      "+-----------+-------+--------+------------------+-------+\n"
     ]
    }
   ],
   "source": [
    "# Describe the numerical columns\n",
    "print(tabulate(df_spendings.describe().T, headers='keys', tablefmt='pretty')) #type: ignore\n",
    "\n",
    "# Describe the categorical columns\n",
    "print(tabulate(df_spendings.describe(include='object').T, headers='keys', tablefmt='pretty')) #type: ignore"
   ]
  },
  {
   "cell_type": "markdown",
   "metadata": {},
   "source": [
    "Unemployment"
   ]
  },
  {
   "cell_type": "code",
   "execution_count": 23,
   "metadata": {},
   "outputs": [
    {
     "name": "stdout",
     "output_type": "stream",
     "text": [
      "+-----------------------------------------+-------+--------------------+--------------------+---------+-------------------+-----------+--------------------+------------+\n",
      "|                                         | count |        mean        |        std         |   min   |        25%        |    50%    |        75%         |    max     |\n",
      "+-----------------------------------------+-------+--------------------+--------------------+---------+-------------------+-----------+--------------------+------------+\n",
      "|     Estimated Unemployment Rate (%)     | 740.0 | 11.787945945945946 | 10.721298373157788 |   0.0   | 4.657500000000001 |   8.35    | 15.887500000000001 |   76.74    |\n",
      "|           Estimated Employed            | 740.0 | 7204460.025675676  | 8087988.429457784  | 49420.0 |     1190404.5     | 4744178.5 |     11275489.5     | 45777509.0 |\n",
      "| Estimated Labour Participation Rate (%) | 740.0 | 42.630121621621626 | 8.111094365865874  |  13.33  |      38.0625      |   41.16   |       45.505       |   72.57    |\n",
      "+-----------------------------------------+-------+--------------------+--------------------+---------+-------------------+-----------+--------------------+------------+\n",
      "+-----------+-------+--------+----------------+------+\n",
      "|           | count | unique |      top       | freq |\n",
      "+-----------+-------+--------+----------------+------+\n",
      "|  Region   |  740  |   28   | Andhra Pradesh |  28  |\n",
      "|   Date    |  740  |   14   |   31-10-2019   |  55  |\n",
      "| Frequency |  740  |   2    |    Monthly     | 381  |\n",
      "|   Area    |  740  |   2    |     Urban      | 381  |\n",
      "+-----------+-------+--------+----------------+------+\n"
     ]
    }
   ],
   "source": [
    "# Describe the unemployment data\n",
    "print(tabulate(df_unemployment.describe().T, headers='keys', tablefmt='pretty')) #type: ignore\n",
    "\n",
    "# Describe the categorical columns\n",
    "print(tabulate(df_unemployment.describe(include='object').T, headers='keys', tablefmt='pretty')) #type: ignore"
   ]
  },
  {
   "cell_type": "markdown",
   "metadata": {},
   "source": [
    "Appointments\n",
    "\n",
    "Speding"
   ]
  },
  {
   "cell_type": "markdown",
   "metadata": {},
   "source": []
  },
  {
   "cell_type": "markdown",
   "metadata": {},
   "source": [
    "#### Identify the most important information"
   ]
  },
  {
   "cell_type": "code",
   "execution_count": null,
   "metadata": {},
   "outputs": [],
   "source": []
  },
  {
   "cell_type": "markdown",
   "metadata": {},
   "source": [
    "#### Identify the missing data"
   ]
  },
  {
   "cell_type": "markdown",
   "metadata": {},
   "source": [
    "#### Identify problems regarding data quality"
   ]
  },
  {
   "cell_type": "markdown",
   "metadata": {},
   "source": [
    "##### Integrity constraints \n",
    "\n",
    "**Unemployment data**:  \n",
    "\n",
    "- We should have unique month-year for each row  (Uniqueness)\n",
    "- Percentage should be between 0 and 100  (Value Range)\n",
    "- There should be only Urban and Rural as values for Area \n",
    "\n",
    "**Spendings data**:\n",
    "\n",
    "- Amount should be positive and greater than 0 and not null (Value Range)\n",
    "- Date should be filled\n",
    "- City should be filled to allow integration with unemployment data"
   ]
  },
  {
   "cell_type": "markdown",
   "metadata": {},
   "source": [
    "## 3. Define an integrated data model"
   ]
  }
 ],
 "metadata": {
  "kernelspec": {
   "display_name": ".venv",
   "language": "python",
   "name": "python3"
  },
  "language_info": {
   "codemirror_mode": {
    "name": "ipython",
    "version": 3
   },
   "file_extension": ".py",
   "mimetype": "text/x-python",
   "name": "python",
   "nbconvert_exporter": "python",
   "pygments_lexer": "ipython3",
   "version": "3.12.2"
  }
 },
 "nbformat": 4,
 "nbformat_minor": 2
}
