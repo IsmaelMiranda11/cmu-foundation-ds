{
 "cells": [
  {
   "cell_type": "markdown",
   "metadata": {},
   "source": [
    "# 🧑🏻‍💼💳 Unemployment in India and Credit Card Spendings "
   ]
  },
  {
   "cell_type": "markdown",
   "metadata": {},
   "source": [
    "    Note: This notebook is the execution of an Data Collection and Pre-Procesing project."
   ]
  },
  {
   "cell_type": "markdown",
   "metadata": {},
   "source": [
    "### 1. Question\n",
    "\n",
    "**Does the unemployment rate influence the use of credit card?**\n",
    "\n",
    "- Stakeholders: \n",
    "  - Bank managers\n",
    "  - Government for inflation control\n",
    "  - Banks for credit risk control\n",
    "\n",
    "Not already answered:  \n",
    "Plausible:  \n",
    "Answerable:  \n",
    "Specific:  "
   ]
  },
  {
   "cell_type": "code",
   "execution_count": 38,
   "metadata": {},
   "outputs": [],
   "source": [
    "import pandas as pd\n",
    "from ydata_profiling import ProfileReport\n",
    "from tabulate import tabulate"
   ]
  },
  {
   "cell_type": "markdown",
   "metadata": {},
   "source": [
    "## 2. Load the data"
   ]
  },
  {
   "cell_type": "markdown",
   "metadata": {},
   "source": [
    "We have data from two context:\n",
    "- Unemployment in India\n",
    "- Credit Card Spendings"
   ]
  },
  {
   "cell_type": "code",
   "execution_count": 5,
   "metadata": {},
   "outputs": [],
   "source": [
    "df_spendings = pd.read_csv(r'.\\kaggle\\input\\Credit_Card_Transactions_date_changed.csv')\n",
    "df_unemployment = pd.read_csv(r'.\\kaggle\\input\\Unemployment in India.csv')"
   ]
  },
  {
   "cell_type": "code",
   "execution_count": 6,
   "metadata": {},
   "outputs": [
    {
     "data": {
      "text/html": [
       "<div>\n",
       "<style scoped>\n",
       "    .dataframe tbody tr th:only-of-type {\n",
       "        vertical-align: middle;\n",
       "    }\n",
       "\n",
       "    .dataframe tbody tr th {\n",
       "        vertical-align: top;\n",
       "    }\n",
       "\n",
       "    .dataframe thead th {\n",
       "        text-align: right;\n",
       "    }\n",
       "</style>\n",
       "<table border=\"1\" class=\"dataframe\">\n",
       "  <thead>\n",
       "    <tr style=\"text-align: right;\">\n",
       "      <th></th>\n",
       "      <th>index</th>\n",
       "      <th>City</th>\n",
       "      <th>Date</th>\n",
       "      <th>Card Type</th>\n",
       "      <th>Exp Type</th>\n",
       "      <th>Gender</th>\n",
       "      <th>Amount</th>\n",
       "    </tr>\n",
       "  </thead>\n",
       "  <tbody>\n",
       "    <tr>\n",
       "      <th>0</th>\n",
       "      <td>0</td>\n",
       "      <td>Delhi, India</td>\n",
       "      <td>2020-10-29</td>\n",
       "      <td>Gold</td>\n",
       "      <td>Bills</td>\n",
       "      <td>F</td>\n",
       "      <td>82475</td>\n",
       "    </tr>\n",
       "    <tr>\n",
       "      <th>1</th>\n",
       "      <td>1</td>\n",
       "      <td>Greater Mumbai, India</td>\n",
       "      <td>2019-08-22</td>\n",
       "      <td>Platinum</td>\n",
       "      <td>Bills</td>\n",
       "      <td>F</td>\n",
       "      <td>32555</td>\n",
       "    </tr>\n",
       "    <tr>\n",
       "      <th>2</th>\n",
       "      <td>2</td>\n",
       "      <td>Bengaluru, India</td>\n",
       "      <td>2020-08-27</td>\n",
       "      <td>Silver</td>\n",
       "      <td>Bills</td>\n",
       "      <td>F</td>\n",
       "      <td>101738</td>\n",
       "    </tr>\n",
       "    <tr>\n",
       "      <th>3</th>\n",
       "      <td>3</td>\n",
       "      <td>Greater Mumbai, India</td>\n",
       "      <td>2019-04-12</td>\n",
       "      <td>Signature</td>\n",
       "      <td>Bills</td>\n",
       "      <td>F</td>\n",
       "      <td>123424</td>\n",
       "    </tr>\n",
       "    <tr>\n",
       "      <th>4</th>\n",
       "      <td>4</td>\n",
       "      <td>Bengaluru, India</td>\n",
       "      <td>2020-05-05</td>\n",
       "      <td>Gold</td>\n",
       "      <td>Bills</td>\n",
       "      <td>F</td>\n",
       "      <td>171574</td>\n",
       "    </tr>\n",
       "  </tbody>\n",
       "</table>\n",
       "</div>"
      ],
      "text/plain": [
       "   index                   City        Date  Card Type Exp Type Gender  Amount\n",
       "0      0           Delhi, India  2020-10-29       Gold    Bills      F   82475\n",
       "1      1  Greater Mumbai, India  2019-08-22   Platinum    Bills      F   32555\n",
       "2      2       Bengaluru, India  2020-08-27     Silver    Bills      F  101738\n",
       "3      3  Greater Mumbai, India  2019-04-12  Signature    Bills      F  123424\n",
       "4      4       Bengaluru, India  2020-05-05       Gold    Bills      F  171574"
      ]
     },
     "execution_count": 6,
     "metadata": {},
     "output_type": "execute_result"
    }
   ],
   "source": [
    "# Credit Card Spendings\n",
    "df_spendings.head()"
   ]
  },
  {
   "cell_type": "code",
   "execution_count": 7,
   "metadata": {},
   "outputs": [
    {
     "data": {
      "text/html": [
       "<div>\n",
       "<style scoped>\n",
       "    .dataframe tbody tr th:only-of-type {\n",
       "        vertical-align: middle;\n",
       "    }\n",
       "\n",
       "    .dataframe tbody tr th {\n",
       "        vertical-align: top;\n",
       "    }\n",
       "\n",
       "    .dataframe thead th {\n",
       "        text-align: right;\n",
       "    }\n",
       "</style>\n",
       "<table border=\"1\" class=\"dataframe\">\n",
       "  <thead>\n",
       "    <tr style=\"text-align: right;\">\n",
       "      <th></th>\n",
       "      <th>Region</th>\n",
       "      <th>Date</th>\n",
       "      <th>Frequency</th>\n",
       "      <th>Estimated Unemployment Rate (%)</th>\n",
       "      <th>Estimated Employed</th>\n",
       "      <th>Estimated Labour Participation Rate (%)</th>\n",
       "      <th>Area</th>\n",
       "    </tr>\n",
       "  </thead>\n",
       "  <tbody>\n",
       "    <tr>\n",
       "      <th>0</th>\n",
       "      <td>Andhra Pradesh</td>\n",
       "      <td>31-05-2019</td>\n",
       "      <td>Monthly</td>\n",
       "      <td>3.65</td>\n",
       "      <td>11999139.0</td>\n",
       "      <td>43.24</td>\n",
       "      <td>Rural</td>\n",
       "    </tr>\n",
       "    <tr>\n",
       "      <th>1</th>\n",
       "      <td>Andhra Pradesh</td>\n",
       "      <td>30-06-2019</td>\n",
       "      <td>Monthly</td>\n",
       "      <td>3.05</td>\n",
       "      <td>11755881.0</td>\n",
       "      <td>42.05</td>\n",
       "      <td>Rural</td>\n",
       "    </tr>\n",
       "    <tr>\n",
       "      <th>2</th>\n",
       "      <td>Andhra Pradesh</td>\n",
       "      <td>31-07-2019</td>\n",
       "      <td>Monthly</td>\n",
       "      <td>3.75</td>\n",
       "      <td>12086707.0</td>\n",
       "      <td>43.50</td>\n",
       "      <td>Rural</td>\n",
       "    </tr>\n",
       "    <tr>\n",
       "      <th>3</th>\n",
       "      <td>Andhra Pradesh</td>\n",
       "      <td>31-08-2019</td>\n",
       "      <td>Monthly</td>\n",
       "      <td>3.32</td>\n",
       "      <td>12285693.0</td>\n",
       "      <td>43.97</td>\n",
       "      <td>Rural</td>\n",
       "    </tr>\n",
       "    <tr>\n",
       "      <th>4</th>\n",
       "      <td>Andhra Pradesh</td>\n",
       "      <td>30-09-2019</td>\n",
       "      <td>Monthly</td>\n",
       "      <td>5.17</td>\n",
       "      <td>12256762.0</td>\n",
       "      <td>44.68</td>\n",
       "      <td>Rural</td>\n",
       "    </tr>\n",
       "  </tbody>\n",
       "</table>\n",
       "</div>"
      ],
      "text/plain": [
       "           Region         Date  Frequency   Estimated Unemployment Rate (%)  \\\n",
       "0  Andhra Pradesh   31-05-2019    Monthly                              3.65   \n",
       "1  Andhra Pradesh   30-06-2019    Monthly                              3.05   \n",
       "2  Andhra Pradesh   31-07-2019    Monthly                              3.75   \n",
       "3  Andhra Pradesh   31-08-2019    Monthly                              3.32   \n",
       "4  Andhra Pradesh   30-09-2019    Monthly                              5.17   \n",
       "\n",
       "    Estimated Employed   Estimated Labour Participation Rate (%)   Area  \n",
       "0           11999139.0                                     43.24  Rural  \n",
       "1           11755881.0                                     42.05  Rural  \n",
       "2           12086707.0                                     43.50  Rural  \n",
       "3           12285693.0                                     43.97  Rural  \n",
       "4           12256762.0                                     44.68  Rural  "
      ]
     },
     "execution_count": 7,
     "metadata": {},
     "output_type": "execute_result"
    }
   ],
   "source": [
    "# Unemployment in India\n",
    "df_unemployment.head()"
   ]
  },
  {
   "cell_type": "markdown",
   "metadata": {},
   "source": [
    "-------------------------- Project Area --------------------------"
   ]
  },
  {
   "cell_type": "markdown",
   "metadata": {},
   "source": [
    "### What to do\n",
    "\n",
    "Spendings: \n",
    "\n",
    "- Add month column in spendings data\n",
    "- Split the city from each City row\n",
    "- Get a refdata to find the region of each city\n",
    "- Drop column of index  \n",
    "\n",
    "Unemployment:\n",
    "\n",
    "- Add month column in unemployment data\n",
    "- Drop missing values rows"
   ]
  },
  {
   "cell_type": "markdown",
   "metadata": {},
   "source": [
    "## 2.c. Describe each original data set selected (M+A)"
   ]
  },
  {
   "cell_type": "markdown",
   "metadata": {},
   "source": [
    "### 2.c.i. Describe the dataset\n"
   ]
  },
  {
   "cell_type": "markdown",
   "metadata": {},
   "source": [
    "#### Automaticly with ydata-profiling 🤖"
   ]
  },
  {
   "cell_type": "code",
   "execution_count": 17,
   "metadata": {},
   "outputs": [
    {
     "name": "stderr",
     "output_type": "stream",
     "text": [
      "Summarize dataset: 100%|██████████| 26/26 [00:00<00:00, 28.98it/s, Completed]                                                                                 \n",
      "Generate report structure: 100%|██████████| 1/1 [00:01<00:00,  1.03s/it]\n",
      "Render HTML: 100%|██████████| 1/1 [00:00<00:00,  3.80it/s]\n",
      "Export report to file: 100%|██████████| 1/1 [00:00<00:00, 199.93it/s]\n",
      "Summarize dataset: 100%|██████████| 20/20 [00:00<00:00, 32.48it/s, Completed]                 \n",
      "Generate report structure: 100%|██████████| 1/1 [00:01<00:00,  1.52s/it]\n",
      "Render HTML: 100%|██████████| 1/1 [00:00<00:00,  6.75it/s]\n",
      "Export report to file: 100%|██████████| 1/1 [00:00<00:00, 199.67it/s]"
     ]
    },
    {
     "name": "stdout",
     "output_type": "stream",
     "text": [
      "The spendings data profile is saved at: .\\profiles\\spendings_data_profile.html\n",
      "The unemployment data profile is saved at: .\\profiles\\unemployment_data_profile.html\n"
     ]
    },
    {
     "name": "stderr",
     "output_type": "stream",
     "text": [
      "\n"
     ]
    }
   ],
   "source": [
    "# Spendings data\n",
    "profile_spendings = ProfileReport(df_spendings,\n",
    "                                  title='Credit card transactions - India - Simple',\n",
    "                                  explorative=True)\n",
    "\n",
    "# Unployment data\n",
    "profile_unemployment = ProfileReport(df_unemployment,\n",
    "                                     title='Unemployment in India',\n",
    "                                     explorative=True)\n",
    "\n",
    "\n",
    "# Save the reports\n",
    "profile_unemployment.to_file(r'.\\profiles\\unemployment_data_profile.html',\n",
    "                             silent=True)\n",
    "profile_spendings.to_file(r'.\\profiles\\spendings_data_profile.html',\n",
    "                          silent=True)"
   ]
  },
  {
   "cell_type": "code",
   "execution_count": 18,
   "metadata": {},
   "outputs": [
    {
     "name": "stdout",
     "output_type": "stream",
     "text": [
      "The spendings data profile is saved at: .\\profiles\\spendings_data_profile.html\n",
      "The unemployment data profile is saved at: .\\profiles\\unemployment_data_profile.html\n"
     ]
    }
   ],
   "source": [
    "print(r'The spendings data profile is saved at: .\\profiles\\spendings_data_profile.html')\n",
    "print(r'The unemployment data profile is saved at: .\\profiles\\unemployment_data_profile.html')"
   ]
  },
  {
   "cell_type": "markdown",
   "metadata": {},
   "source": [
    "#### Manually 🧑‍🔬"
   ]
  },
  {
   "cell_type": "markdown",
   "metadata": {},
   "source": [
    "Credit Card Spendings"
   ]
  },
  {
   "cell_type": "code",
   "execution_count": 48,
   "metadata": {},
   "outputs": [
    {
     "name": "stdout",
     "output_type": "stream",
     "text": [
      "Number of rows: 26052\n",
      "Number of null values: 0\n",
      "\n",
      "Numerical columns description: \n",
      "+----------+-------+--------+--------+------+-------+--------+--------+--------+\n",
      "|          | count |  mean  |  std   | min  |  25%  |  50%   |  75%   |  max   |\n",
      "+----------+-------+--------+--------+------+-------+--------+--------+--------+\n",
      "| df_index | 26052 | 13025  |  7520  |  0   | 6512  | 13025  | 19538  | 26051  |\n",
      "|  Amount  | 26052 | 156411 | 103063 | 1005 | 77120 | 153106 | 228050 | 998077 |\n",
      "+----------+-------+--------+--------+------+-------+--------+--------+--------+\n",
      "\n",
      "Categorical columns description: \n",
      "+-----------+-------+--------+------------------+-------+\n",
      "|           | count | unique |       top        | freq  |\n",
      "+-----------+-------+--------+------------------+-------+\n",
      "|   City    | 26052 |  986   | Bengaluru, India | 3552  |\n",
      "|   Date    | 26052 |  730   |    2020-01-26    |  66   |\n",
      "| Card Type | 26052 |   4    |      Silver      | 6840  |\n",
      "| Exp Type  | 26052 |   6    |       Food       | 5463  |\n",
      "|  Gender   | 26052 |   2    |        F         | 13680 |\n",
      "+-----------+-------+--------+------------------+-------+\n"
     ]
    }
   ],
   "source": [
    "# Shape of dataset\n",
    "print(f'Number of rows: {df_spendings.shape[0]}')\n",
    "print(f'Number of null values: {df_spendings.isnull().sum().sum()}\\n')\n",
    "\n",
    "# Describe the numerical columns\n",
    "print('Numerical columns description: ')\n",
    "print(tabulate(df_spendings.describe().T.astype(int), headers='keys', tablefmt='pretty')) #type: ignore\n",
    "\n",
    "# Describe the categorical columns\n",
    "print('\\nCategorical columns description: ')\n",
    "print(tabulate(df_spendings.describe(include='object').T, headers='keys', tablefmt='pretty')) #type: ignore"
   ]
  },
  {
   "cell_type": "markdown",
   "metadata": {},
   "source": [
    "Unemployment"
   ]
  },
  {
   "cell_type": "code",
   "execution_count": 47,
   "metadata": {},
   "outputs": [
    {
     "name": "stdout",
     "output_type": "stream",
     "text": [
      "Number of rows: 768\n",
      "Number of null values: 196\n",
      "\n",
      "Numerical columns description: \n",
      "+-----------------------------------------+-------+---------+---------+-------+---------+---------+----------+----------+\n",
      "|                                         | count |  mean   |   std   |  min  |   25%   |   50%   |   75%    |   max    |\n",
      "+-----------------------------------------+-------+---------+---------+-------+---------+---------+----------+----------+\n",
      "|     Estimated Unemployment Rate (%)     |  740  |   11    |   10    |   0   |    4    |    8    |    15    |    76    |\n",
      "|           Estimated Employed            |  740  | 7204460 | 8087988 | 49420 | 1190404 | 4744178 | 11275489 | 45777509 |\n",
      "| Estimated Labour Participation Rate (%) |  740  |   42    |    8    |  13   |   38    |   41    |    45    |    72    |\n",
      "+-----------------------------------------+-------+---------+---------+-------+---------+---------+----------+----------+\n",
      "\n",
      "Categorical columns description: \n",
      "+-----------+-------+--------+----------------+------+\n",
      "|           | count | unique |      top       | freq |\n",
      "+-----------+-------+--------+----------------+------+\n",
      "|  Region   |  740  |   28   | Andhra Pradesh |  28  |\n",
      "|   Date    |  740  |   14   |   31-10-2019   |  55  |\n",
      "| Frequency |  740  |   2    |    Monthly     | 381  |\n",
      "|   Area    |  740  |   2    |     Urban      | 381  |\n",
      "+-----------+-------+--------+----------------+------+\n"
     ]
    }
   ],
   "source": [
    "# Shape of dataset\n",
    "print(f'Number of rows: {df_unemployment.shape[0]}')\n",
    "print(f'Number of null values: {df_unemployment.isnull().sum().sum()}\\n')\n",
    "\n",
    "# Describe the unemployment data\n",
    "print('Numerical columns description: ')\n",
    "print(tabulate(df_unemployment.describe().T.astype(int), headers='keys', tablefmt='pretty')) #type: ignore\n",
    "\n",
    "# Describe the categorical columns\n",
    "print('\\nCategorical columns description: ')\n",
    "print(tabulate(df_unemployment.describe(include='object').T, headers='keys', tablefmt='pretty')) #type: ignore"
   ]
  },
  {
   "cell_type": "markdown",
   "metadata": {},
   "source": [
    "#### Appointments 📖\n",
    "\n",
    "- Credit Card Spendings\n",
    "  - Each row is a spending in a city in certain date\n",
    "  - The column `City` has the name of country concatenated in the end\n",
    "  - The column `Amount` is not normal distributed\n",
    "  - The column `index` is not necessary\n",
    "\n",
    "- Unemployment\n",
    "  - The `Date` column has the end of month\n",
    "  - Each row is a record of the unemployment data for a **certain month** in a **certain Indian region**\n",
    "  - There are rows with complete missing values\n",
    "    - The missing value maybe represent lack of data for two regions\n",
    "  - The `Area` column separate the data between urban and rural\n",
    "  - The column with unployment rate, `Estimated Unemployment Rate (%)`, is not normal distributed\n",
    "    - The kurtois of 7.4 states that the distribution has a heavy tail and the value of 2.2 for skewness states that the distribution is not symmetric and is skewed to the right.\n",
    "  - The columns has a leading space in the name"
   ]
  },
  {
   "cell_type": "markdown",
   "metadata": {},
   "source": [
    "### 2.c.ii. Identify the most important information"
   ]
  },
  {
   "cell_type": "markdown",
   "metadata": {},
   "source": [
    "The answer for the question could be a set of two graphs.\n",
    "\n",
    "1. A scatter graph with **monthly unemployment rate in the x-axis** and the **monthly sum of credit card amount spent** in the y-axis. One for each region.\n",
    "2. A line graph with months in the x-axis and two lines: one for the **monthly sum of credit card amount spent** and another for the **monthly unemployment rate**. One for each region.\n",
    "\n",
    "The first graph allows to see if there is a correlation between the unemployment rate and the credit card spendings.  \n",
    "The second graph allows to see the trend of the two variables.\n"
   ]
  },
  {
   "cell_type": "markdown",
   "metadata": {},
   "source": [
    "Based on this, from the dataset, the most important information is concerning the columns of **date, region, unemployment rate and amount spent.**"
   ]
  },
  {
   "cell_type": "markdown",
   "metadata": {},
   "source": [
    "### 2.c.iii. Identify the missing data"
   ]
  },
  {
   "cell_type": "markdown",
   "metadata": {},
   "source": [
    "Unemployment"
   ]
  },
  {
   "cell_type": "code",
   "execution_count": 142,
   "metadata": {},
   "outputs": [
    {
     "name": "stdout",
     "output_type": "stream",
     "text": [
      "For the spendings data, the number of null values in each column is: \n",
      "+-----------+---+\n",
      "|           | 0 |\n",
      "+-----------+---+\n",
      "| df_index  | 0 |\n",
      "|   City    | 0 |\n",
      "|   Date    | 0 |\n",
      "| Card Type | 0 |\n",
      "| Exp Type  | 0 |\n",
      "|  Gender   | 0 |\n",
      "|  Amount   | 0 |\n",
      "+-----------+---+\n",
      "\n",
      "For the unemployment data, the number of null values in each column is: \n",
      "+-----------------------------------------+----+\n",
      "|                                         | 0  |\n",
      "+-----------------------------------------+----+\n",
      "|                 Region                  | 28 |\n",
      "|                  Date                   | 28 |\n",
      "|                Frequency                | 28 |\n",
      "|     Estimated Unemployment Rate (%)     | 28 |\n",
      "|           Estimated Employed            | 28 |\n",
      "| Estimated Labour Participation Rate (%) | 28 |\n",
      "|                  Area                   | 28 |\n",
      "+-----------------------------------------+----+\n"
     ]
    }
   ],
   "source": [
    "print(f'For the spendings data, the number of null values in each column is: ')\n",
    "print(tabulate(df_spendings.isnull().sum().to_frame(), \n",
    "               headers='keys', tablefmt='pretty')) #type: ignore\n",
    "\n",
    "print(f'\\nFor the unemployment data, the number of null values in each column is: ')\n",
    "print(tabulate(df_unemployment.isnull().sum().to_frame(), \n",
    "               headers='keys', tablefmt='pretty')) #type: ignore"
   ]
  },
  {
   "cell_type": "markdown",
   "metadata": {},
   "source": [
    "As stated before, the unemployment dataset has missing values. \n",
    "\n",
    "The might be a lack of data for two regions."
   ]
  },
  {
   "cell_type": "code",
   "execution_count": 143,
   "metadata": {},
   "outputs": [
    {
     "data": {
      "text/html": [
       "<style type=\"text/css\">\n",
       "#T_9d9b7_row1_col0, #T_9d9b7_row3_col0, #T_9d9b7_row3_col1, #T_9d9b7_row6_col0, #T_9d9b7_row6_col1, #T_9d9b7_row10_col0, #T_9d9b7_row10_col1, #T_9d9b7_row16_col1, #T_9d9b7_row18_col0, #T_9d9b7_row21_col0, #T_9d9b7_row21_col1, #T_9d9b7_row26_col0 {\n",
       "  background-color: #B8860B;\n",
       "}\n",
       "</style>\n",
       "<table id=\"T_9d9b7\">\n",
       "  <thead>\n",
       "    <tr>\n",
       "      <th class=\"index_name level0\" >Area</th>\n",
       "      <th id=\"T_9d9b7_level0_col0\" class=\"col_heading level0 col0\" >Rural</th>\n",
       "      <th id=\"T_9d9b7_level0_col1\" class=\"col_heading level0 col1\" >Urban</th>\n",
       "    </tr>\n",
       "    <tr>\n",
       "      <th class=\"index_name level0\" >Region</th>\n",
       "      <th class=\"blank col0\" >&nbsp;</th>\n",
       "      <th class=\"blank col1\" >&nbsp;</th>\n",
       "    </tr>\n",
       "  </thead>\n",
       "  <tbody>\n",
       "    <tr>\n",
       "      <th id=\"T_9d9b7_level0_row0\" class=\"row_heading level0 row0\" >Andhra Pradesh</th>\n",
       "      <td id=\"T_9d9b7_row0_col0\" class=\"data row0 col0\" >14</td>\n",
       "      <td id=\"T_9d9b7_row0_col1\" class=\"data row0 col1\" >14</td>\n",
       "    </tr>\n",
       "    <tr>\n",
       "      <th id=\"T_9d9b7_level0_row1\" class=\"row_heading level0 row1\" >Assam</th>\n",
       "      <td id=\"T_9d9b7_row1_col0\" class=\"data row1 col0\" >12</td>\n",
       "      <td id=\"T_9d9b7_row1_col1\" class=\"data row1 col1\" >14</td>\n",
       "    </tr>\n",
       "    <tr>\n",
       "      <th id=\"T_9d9b7_level0_row2\" class=\"row_heading level0 row2\" >Bihar</th>\n",
       "      <td id=\"T_9d9b7_row2_col0\" class=\"data row2 col0\" >14</td>\n",
       "      <td id=\"T_9d9b7_row2_col1\" class=\"data row2 col1\" >14</td>\n",
       "    </tr>\n",
       "    <tr>\n",
       "      <th id=\"T_9d9b7_level0_row3\" class=\"row_heading level0 row3\" >Chandigarh</th>\n",
       "      <td id=\"T_9d9b7_row3_col0\" class=\"data row3 col0\" >0</td>\n",
       "      <td id=\"T_9d9b7_row3_col1\" class=\"data row3 col1\" >12</td>\n",
       "    </tr>\n",
       "    <tr>\n",
       "      <th id=\"T_9d9b7_level0_row4\" class=\"row_heading level0 row4\" >Chhattisgarh</th>\n",
       "      <td id=\"T_9d9b7_row4_col0\" class=\"data row4 col0\" >14</td>\n",
       "      <td id=\"T_9d9b7_row4_col1\" class=\"data row4 col1\" >14</td>\n",
       "    </tr>\n",
       "    <tr>\n",
       "      <th id=\"T_9d9b7_level0_row5\" class=\"row_heading level0 row5\" >Delhi</th>\n",
       "      <td id=\"T_9d9b7_row5_col0\" class=\"data row5 col0\" >14</td>\n",
       "      <td id=\"T_9d9b7_row5_col1\" class=\"data row5 col1\" >14</td>\n",
       "    </tr>\n",
       "    <tr>\n",
       "      <th id=\"T_9d9b7_level0_row6\" class=\"row_heading level0 row6\" >Goa</th>\n",
       "      <td id=\"T_9d9b7_row6_col0\" class=\"data row6 col0\" >12</td>\n",
       "      <td id=\"T_9d9b7_row6_col1\" class=\"data row6 col1\" >12</td>\n",
       "    </tr>\n",
       "    <tr>\n",
       "      <th id=\"T_9d9b7_level0_row7\" class=\"row_heading level0 row7\" >Gujarat</th>\n",
       "      <td id=\"T_9d9b7_row7_col0\" class=\"data row7 col0\" >14</td>\n",
       "      <td id=\"T_9d9b7_row7_col1\" class=\"data row7 col1\" >14</td>\n",
       "    </tr>\n",
       "    <tr>\n",
       "      <th id=\"T_9d9b7_level0_row8\" class=\"row_heading level0 row8\" >Haryana</th>\n",
       "      <td id=\"T_9d9b7_row8_col0\" class=\"data row8 col0\" >14</td>\n",
       "      <td id=\"T_9d9b7_row8_col1\" class=\"data row8 col1\" >14</td>\n",
       "    </tr>\n",
       "    <tr>\n",
       "      <th id=\"T_9d9b7_level0_row9\" class=\"row_heading level0 row9\" >Himachal Pradesh</th>\n",
       "      <td id=\"T_9d9b7_row9_col0\" class=\"data row9 col0\" >14</td>\n",
       "      <td id=\"T_9d9b7_row9_col1\" class=\"data row9 col1\" >14</td>\n",
       "    </tr>\n",
       "    <tr>\n",
       "      <th id=\"T_9d9b7_level0_row10\" class=\"row_heading level0 row10\" >Jammu & Kashmir</th>\n",
       "      <td id=\"T_9d9b7_row10_col0\" class=\"data row10 col0\" >11</td>\n",
       "      <td id=\"T_9d9b7_row10_col1\" class=\"data row10 col1\" >10</td>\n",
       "    </tr>\n",
       "    <tr>\n",
       "      <th id=\"T_9d9b7_level0_row11\" class=\"row_heading level0 row11\" >Jharkhand</th>\n",
       "      <td id=\"T_9d9b7_row11_col0\" class=\"data row11 col0\" >14</td>\n",
       "      <td id=\"T_9d9b7_row11_col1\" class=\"data row11 col1\" >14</td>\n",
       "    </tr>\n",
       "    <tr>\n",
       "      <th id=\"T_9d9b7_level0_row12\" class=\"row_heading level0 row12\" >Karnataka</th>\n",
       "      <td id=\"T_9d9b7_row12_col0\" class=\"data row12 col0\" >14</td>\n",
       "      <td id=\"T_9d9b7_row12_col1\" class=\"data row12 col1\" >14</td>\n",
       "    </tr>\n",
       "    <tr>\n",
       "      <th id=\"T_9d9b7_level0_row13\" class=\"row_heading level0 row13\" >Kerala</th>\n",
       "      <td id=\"T_9d9b7_row13_col0\" class=\"data row13 col0\" >14</td>\n",
       "      <td id=\"T_9d9b7_row13_col1\" class=\"data row13 col1\" >14</td>\n",
       "    </tr>\n",
       "    <tr>\n",
       "      <th id=\"T_9d9b7_level0_row14\" class=\"row_heading level0 row14\" >Madhya Pradesh</th>\n",
       "      <td id=\"T_9d9b7_row14_col0\" class=\"data row14 col0\" >14</td>\n",
       "      <td id=\"T_9d9b7_row14_col1\" class=\"data row14 col1\" >14</td>\n",
       "    </tr>\n",
       "    <tr>\n",
       "      <th id=\"T_9d9b7_level0_row15\" class=\"row_heading level0 row15\" >Maharashtra</th>\n",
       "      <td id=\"T_9d9b7_row15_col0\" class=\"data row15 col0\" >14</td>\n",
       "      <td id=\"T_9d9b7_row15_col1\" class=\"data row15 col1\" >14</td>\n",
       "    </tr>\n",
       "    <tr>\n",
       "      <th id=\"T_9d9b7_level0_row16\" class=\"row_heading level0 row16\" >Meghalaya</th>\n",
       "      <td id=\"T_9d9b7_row16_col0\" class=\"data row16 col0\" >14</td>\n",
       "      <td id=\"T_9d9b7_row16_col1\" class=\"data row16 col1\" >13</td>\n",
       "    </tr>\n",
       "    <tr>\n",
       "      <th id=\"T_9d9b7_level0_row17\" class=\"row_heading level0 row17\" >Odisha</th>\n",
       "      <td id=\"T_9d9b7_row17_col0\" class=\"data row17 col0\" >14</td>\n",
       "      <td id=\"T_9d9b7_row17_col1\" class=\"data row17 col1\" >14</td>\n",
       "    </tr>\n",
       "    <tr>\n",
       "      <th id=\"T_9d9b7_level0_row18\" class=\"row_heading level0 row18\" >Puducherry</th>\n",
       "      <td id=\"T_9d9b7_row18_col0\" class=\"data row18 col0\" >12</td>\n",
       "      <td id=\"T_9d9b7_row18_col1\" class=\"data row18 col1\" >14</td>\n",
       "    </tr>\n",
       "    <tr>\n",
       "      <th id=\"T_9d9b7_level0_row19\" class=\"row_heading level0 row19\" >Punjab</th>\n",
       "      <td id=\"T_9d9b7_row19_col0\" class=\"data row19 col0\" >14</td>\n",
       "      <td id=\"T_9d9b7_row19_col1\" class=\"data row19 col1\" >14</td>\n",
       "    </tr>\n",
       "    <tr>\n",
       "      <th id=\"T_9d9b7_level0_row20\" class=\"row_heading level0 row20\" >Rajasthan</th>\n",
       "      <td id=\"T_9d9b7_row20_col0\" class=\"data row20 col0\" >14</td>\n",
       "      <td id=\"T_9d9b7_row20_col1\" class=\"data row20 col1\" >14</td>\n",
       "    </tr>\n",
       "    <tr>\n",
       "      <th id=\"T_9d9b7_level0_row21\" class=\"row_heading level0 row21\" >Sikkim</th>\n",
       "      <td id=\"T_9d9b7_row21_col0\" class=\"data row21 col0\" >5</td>\n",
       "      <td id=\"T_9d9b7_row21_col1\" class=\"data row21 col1\" >12</td>\n",
       "    </tr>\n",
       "    <tr>\n",
       "      <th id=\"T_9d9b7_level0_row22\" class=\"row_heading level0 row22\" >Tamil Nadu</th>\n",
       "      <td id=\"T_9d9b7_row22_col0\" class=\"data row22 col0\" >14</td>\n",
       "      <td id=\"T_9d9b7_row22_col1\" class=\"data row22 col1\" >14</td>\n",
       "    </tr>\n",
       "    <tr>\n",
       "      <th id=\"T_9d9b7_level0_row23\" class=\"row_heading level0 row23\" >Telangana</th>\n",
       "      <td id=\"T_9d9b7_row23_col0\" class=\"data row23 col0\" >14</td>\n",
       "      <td id=\"T_9d9b7_row23_col1\" class=\"data row23 col1\" >14</td>\n",
       "    </tr>\n",
       "    <tr>\n",
       "      <th id=\"T_9d9b7_level0_row24\" class=\"row_heading level0 row24\" >Tripura</th>\n",
       "      <td id=\"T_9d9b7_row24_col0\" class=\"data row24 col0\" >14</td>\n",
       "      <td id=\"T_9d9b7_row24_col1\" class=\"data row24 col1\" >14</td>\n",
       "    </tr>\n",
       "    <tr>\n",
       "      <th id=\"T_9d9b7_level0_row25\" class=\"row_heading level0 row25\" >Uttar Pradesh</th>\n",
       "      <td id=\"T_9d9b7_row25_col0\" class=\"data row25 col0\" >14</td>\n",
       "      <td id=\"T_9d9b7_row25_col1\" class=\"data row25 col1\" >14</td>\n",
       "    </tr>\n",
       "    <tr>\n",
       "      <th id=\"T_9d9b7_level0_row26\" class=\"row_heading level0 row26\" >Uttarakhand</th>\n",
       "      <td id=\"T_9d9b7_row26_col0\" class=\"data row26 col0\" >13</td>\n",
       "      <td id=\"T_9d9b7_row26_col1\" class=\"data row26 col1\" >14</td>\n",
       "    </tr>\n",
       "    <tr>\n",
       "      <th id=\"T_9d9b7_level0_row27\" class=\"row_heading level0 row27\" >West Bengal</th>\n",
       "      <td id=\"T_9d9b7_row27_col0\" class=\"data row27 col0\" >14</td>\n",
       "      <td id=\"T_9d9b7_row27_col1\" class=\"data row27 col1\" >14</td>\n",
       "    </tr>\n",
       "  </tbody>\n",
       "</table>\n"
      ],
      "text/plain": [
       "<pandas.io.formats.style.Styler at 0x2747f854050>"
      ]
     },
     "execution_count": 143,
     "metadata": {},
     "output_type": "execute_result"
    }
   ],
   "source": [
    "( \n",
    "    df_unemployment\n",
    "    .groupby(['Region', 'Area'])\n",
    "    .agg(count=(' Date', 'count'))\n",
    "    .reset_index()\n",
    "    .pivot_table(index='Region', columns='Area', values='count', fill_value=0)\n",
    "    .style.format('{:.0f}')\n",
    "    .map(lambda x: 'background-color: #B8860B' if x < 14 else '')\n",
    ")"
   ]
  },
  {
   "cell_type": "code",
   "execution_count": null,
   "metadata": {},
   "outputs": [],
   "source": []
  },
  {
   "cell_type": "markdown",
   "metadata": {},
   "source": [
    "Actually, the missing values are not only in two regions, but in some of them and in both urban and rural areas."
   ]
  },
  {
   "cell_type": "markdown",
   "metadata": {},
   "source": [
    "One possible solution is to model the missing values with a regression algorithm and fill with the predicted values."
   ]
  },
  {
   "cell_type": "markdown",
   "metadata": {},
   "source": [
    "### 2.c.iv. Identify problems regarding data quality"
   ]
  },
  {
   "cell_type": "markdown",
   "metadata": {},
   "source": [
    "##### Integrity constraints \n",
    "\n",
    "**Unemployment data**:  \n",
    "\n",
    "- We should have unique month-year for each row  (Uniqueness)\n",
    "- Percentage should be between 0 and 100  (Value Range)\n",
    "- There should be only Urban and Rural as values for Area \n",
    "\n",
    "**Spendings data**:\n",
    "\n",
    "- Amount should be positive and greater than 0 and not null (Value Range)\n",
    "- Date should be filled\n",
    "- City should be filled to allow integration with unemployment data"
   ]
  },
  {
   "cell_type": "markdown",
   "metadata": {},
   "source": [
    "## 3. Define an integrated data model"
   ]
  },
  {
   "cell_type": "markdown",
   "metadata": {},
   "source": [
    "### 3.a ER Diagram"
   ]
  },
  {
   "cell_type": "markdown",
   "metadata": {},
   "source": [
    "ERD\n",
    "\n",
    "![20241111-20-55-02](imgs/20241111-20-55-02.png)"
   ]
  },
  {
   "cell_type": "markdown",
   "metadata": {},
   "source": [
    "### 3.b Needed transformations to integrate the data"
   ]
  },
  {
   "cell_type": "markdown",
   "metadata": {},
   "source": [
    "Needed transformations:\n",
    "\n",
    "Spendings:\n",
    "- Group the rows by month\n",
    "- Get "
   ]
  },
  {
   "cell_type": "markdown",
   "metadata": {},
   "source": [
    "## 4 Develop and implement a strategy that based on the data models and the data"
   ]
  },
  {
   "cell_type": "markdown",
   "metadata": {},
   "source": []
  },
  {
   "cell_type": "markdown",
   "metadata": {},
   "source": [
    "### 4.a. Extract the data from the dataset according to the data models"
   ]
  },
  {
   "cell_type": "markdown",
   "metadata": {},
   "source": [
    "### 4.b. use the data from 4.a and the model defined in 3 to produce a single integrated dataset"
   ]
  },
  {
   "cell_type": "markdown",
   "metadata": {},
   "source": [
    "## 5.  For the selected attributes"
   ]
  },
  {
   "cell_type": "markdown",
   "metadata": {},
   "source": [
    "a. Classify the attribute as numeric, textual, categorical, or boolean. If you can't classify, discuss why (e.g., an attribute has values 1, 3, and medium, so it's neither numeric nor categorical). (A+M) \n",
    "\n",
    "b. Plot the distribution of numerical values. Find outliers (You can use histograms, but the report does not need to show all of them, just one or two of the most interesting ones) (A)\n",
    "\n",
    "c. Report the average, min and max length of textual values (A) \n",
    "\n",
    "d. For categorical values, report the number of unique values and their distribution. (A) \n",
    "\n",
    "e. Report the fraction of missing values for each attribute. \n",
    "\n",
    "f. Present other issues you found, such as: different formats (common with dates), synonyms, misplaced attribute values (e.g., last name included in first name attribute). (A+M)"
   ]
  },
  {
   "cell_type": "markdown",
   "metadata": {},
   "source": [
    "## 6. Select one or more problems identified in 1 and implement a solution, e.g.:\n",
    "\n",
    "a. ill-in missing values following a particular strategy  \n",
    "b. normalize date formats  \n",
    "c. normalize string formats  "
   ]
  },
  {
   "cell_type": "markdown",
   "metadata": {},
   "source": [
    "## 7.  Implement one or more strategies for entity similarity to detect and merge duplicates (A)\n",
    "\n",
    "a.  Use string similarity to detect potential duplicates i. make sure to normalize textual data, dates, etc (A) \n",
    "\n",
    "b.  Define rules to solve duplicates (solve one or two types of issues, even if you detect more) i. e.g., if names of actors have string similarity >80% and the set of movies they act in overlaps by more than 90%, then merge the actors."
   ]
  }
 ],
 "metadata": {
  "kernelspec": {
   "display_name": ".venv",
   "language": "python",
   "name": "python3"
  },
  "language_info": {
   "codemirror_mode": {
    "name": "ipython",
    "version": 3
   },
   "file_extension": ".py",
   "mimetype": "text/x-python",
   "name": "python",
   "nbconvert_exporter": "python",
   "pygments_lexer": "ipython3",
   "version": "3.12.2"
  }
 },
 "nbformat": 4,
 "nbformat_minor": 2
}
