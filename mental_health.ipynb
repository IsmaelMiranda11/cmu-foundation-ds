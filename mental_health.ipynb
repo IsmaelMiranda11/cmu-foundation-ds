{
 "cells": [
  {
   "cell_type": "markdown",
   "metadata": {},
   "source": [
    "# Remote Work & Mental Health 🌍🧠\n",
    "\n",
    "This dataset cames from the [Kaggle](https://www.kaggle.com/datasets/waqi786/remote-work-and-mental-health).\n",
    "\n",
    "This dataset examines the impact of remote work on mental health, gathering responses from individuals across various demographics. It includes key metrics such as job satisfaction, anxiety levels, and work-life balance.\n",
    "\n",
    "Index:\n",
    "1. [Reading the Data](#1.-Reading-the-Data)\n",
    "2. [Data Cleaning](mental_health.ipynb#data-cleaning)"
   ]
  },
  {
   "cell_type": "markdown",
   "metadata": {},
   "source": [
    "Hipóteses\n",
    "\n",
    "1. objetivo: estudar o impacto do remote work na nossa saude mental\n",
    "\n",
    "2\n",
    "a) detalhar a população a nível pessoal: x pessoas, percentagem de cada genero (Gender) e utilizar Region e Year  \n",
    "b) detalhar a população a nível de trabalho e no work location  \n",
    "\n",
    "3) testar hipóteses:\n",
    "   - será que existe regiões onde o remote work impacta mais a nossa saúde mental?\n",
    "   - verificar se existe profissões onde trabalhar remotamente impacta mais a nossa saude mental?\n",
    "   - será que o número de reuniões e/ou número de horas tem efeito?\n",
    "   - será que praticar desporto e/ou dormir bem tem impacto?\n",
    "   - será que existe uma correlação entre pessoas novas e doenças mentais? (+ novas, +probabilidade de doenças?)\n",
    "   - será que é possível encontrar um perfil mais provavel de não se adaptar bem ao remote work?\n",
    "   - será que as pessoas com maior social isolation rating estão mais satisfeitas com o remote work?\n",
    "   ou pode levar situações de stress e ansiedade?\n",
    "\n"
   ]
  },
  {
   "cell_type": "markdown",
   "metadata": {},
   "source": [
    "## Reading the data"
   ]
  },
  {
   "cell_type": "code",
   "execution_count": 2,
   "metadata": {},
   "outputs": [],
   "source": [
    "import pandas as pd"
   ]
  },
  {
   "cell_type": "code",
   "execution_count": 3,
   "metadata": {},
   "outputs": [
    {
     "data": {
      "text/html": [
       "<div>\n",
       "<style scoped>\n",
       "    .dataframe tbody tr th:only-of-type {\n",
       "        vertical-align: middle;\n",
       "    }\n",
       "\n",
       "    .dataframe tbody tr th {\n",
       "        vertical-align: top;\n",
       "    }\n",
       "\n",
       "    .dataframe thead th {\n",
       "        text-align: right;\n",
       "    }\n",
       "</style>\n",
       "<table border=\"1\" class=\"dataframe\">\n",
       "  <thead>\n",
       "    <tr style=\"text-align: right;\">\n",
       "      <th></th>\n",
       "      <th>Employee_ID</th>\n",
       "      <th>Age</th>\n",
       "      <th>Gender</th>\n",
       "      <th>Job_Role</th>\n",
       "      <th>Industry</th>\n",
       "      <th>Years_of_Experience</th>\n",
       "      <th>Work_Location</th>\n",
       "      <th>Hours_Worked_Per_Week</th>\n",
       "      <th>Number_of_Virtual_Meetings</th>\n",
       "      <th>Work_Life_Balance_Rating</th>\n",
       "      <th>Stress_Level</th>\n",
       "      <th>Mental_Health_Condition</th>\n",
       "      <th>Access_to_Mental_Health_Resources</th>\n",
       "      <th>Productivity_Change</th>\n",
       "      <th>Social_Isolation_Rating</th>\n",
       "      <th>Satisfaction_with_Remote_Work</th>\n",
       "      <th>Company_Support_for_Remote_Work</th>\n",
       "      <th>Physical_Activity</th>\n",
       "      <th>Sleep_Quality</th>\n",
       "      <th>Region</th>\n",
       "    </tr>\n",
       "  </thead>\n",
       "  <tbody>\n",
       "    <tr>\n",
       "      <th>0</th>\n",
       "      <td>EMP0001</td>\n",
       "      <td>32</td>\n",
       "      <td>Non-binary</td>\n",
       "      <td>HR</td>\n",
       "      <td>Healthcare</td>\n",
       "      <td>13</td>\n",
       "      <td>Hybrid</td>\n",
       "      <td>47</td>\n",
       "      <td>7</td>\n",
       "      <td>2</td>\n",
       "      <td>Medium</td>\n",
       "      <td>Depression</td>\n",
       "      <td>No</td>\n",
       "      <td>Decrease</td>\n",
       "      <td>1</td>\n",
       "      <td>Unsatisfied</td>\n",
       "      <td>1</td>\n",
       "      <td>Weekly</td>\n",
       "      <td>Good</td>\n",
       "      <td>Europe</td>\n",
       "    </tr>\n",
       "    <tr>\n",
       "      <th>1</th>\n",
       "      <td>EMP0002</td>\n",
       "      <td>40</td>\n",
       "      <td>Female</td>\n",
       "      <td>Data Scientist</td>\n",
       "      <td>IT</td>\n",
       "      <td>3</td>\n",
       "      <td>Remote</td>\n",
       "      <td>52</td>\n",
       "      <td>4</td>\n",
       "      <td>1</td>\n",
       "      <td>Medium</td>\n",
       "      <td>Anxiety</td>\n",
       "      <td>No</td>\n",
       "      <td>Increase</td>\n",
       "      <td>3</td>\n",
       "      <td>Satisfied</td>\n",
       "      <td>2</td>\n",
       "      <td>Weekly</td>\n",
       "      <td>Good</td>\n",
       "      <td>Asia</td>\n",
       "    </tr>\n",
       "    <tr>\n",
       "      <th>2</th>\n",
       "      <td>EMP0003</td>\n",
       "      <td>59</td>\n",
       "      <td>Non-binary</td>\n",
       "      <td>Software Engineer</td>\n",
       "      <td>Education</td>\n",
       "      <td>22</td>\n",
       "      <td>Hybrid</td>\n",
       "      <td>46</td>\n",
       "      <td>11</td>\n",
       "      <td>5</td>\n",
       "      <td>Medium</td>\n",
       "      <td>Anxiety</td>\n",
       "      <td>No</td>\n",
       "      <td>No Change</td>\n",
       "      <td>4</td>\n",
       "      <td>Unsatisfied</td>\n",
       "      <td>5</td>\n",
       "      <td>NaN</td>\n",
       "      <td>Poor</td>\n",
       "      <td>North America</td>\n",
       "    </tr>\n",
       "    <tr>\n",
       "      <th>3</th>\n",
       "      <td>EMP0004</td>\n",
       "      <td>27</td>\n",
       "      <td>Male</td>\n",
       "      <td>Software Engineer</td>\n",
       "      <td>Finance</td>\n",
       "      <td>20</td>\n",
       "      <td>Onsite</td>\n",
       "      <td>32</td>\n",
       "      <td>8</td>\n",
       "      <td>4</td>\n",
       "      <td>High</td>\n",
       "      <td>Depression</td>\n",
       "      <td>Yes</td>\n",
       "      <td>Increase</td>\n",
       "      <td>3</td>\n",
       "      <td>Unsatisfied</td>\n",
       "      <td>3</td>\n",
       "      <td>NaN</td>\n",
       "      <td>Poor</td>\n",
       "      <td>Europe</td>\n",
       "    </tr>\n",
       "    <tr>\n",
       "      <th>4</th>\n",
       "      <td>EMP0005</td>\n",
       "      <td>49</td>\n",
       "      <td>Male</td>\n",
       "      <td>Sales</td>\n",
       "      <td>Consulting</td>\n",
       "      <td>32</td>\n",
       "      <td>Onsite</td>\n",
       "      <td>35</td>\n",
       "      <td>12</td>\n",
       "      <td>2</td>\n",
       "      <td>High</td>\n",
       "      <td>NaN</td>\n",
       "      <td>Yes</td>\n",
       "      <td>Decrease</td>\n",
       "      <td>3</td>\n",
       "      <td>Unsatisfied</td>\n",
       "      <td>3</td>\n",
       "      <td>Weekly</td>\n",
       "      <td>Average</td>\n",
       "      <td>North America</td>\n",
       "    </tr>\n",
       "  </tbody>\n",
       "</table>\n",
       "</div>"
      ],
      "text/plain": [
       "  Employee_ID  Age      Gender           Job_Role    Industry  \\\n",
       "0     EMP0001   32  Non-binary                 HR  Healthcare   \n",
       "1     EMP0002   40      Female     Data Scientist          IT   \n",
       "2     EMP0003   59  Non-binary  Software Engineer   Education   \n",
       "3     EMP0004   27        Male  Software Engineer     Finance   \n",
       "4     EMP0005   49        Male              Sales  Consulting   \n",
       "\n",
       "   Years_of_Experience Work_Location  Hours_Worked_Per_Week  \\\n",
       "0                   13        Hybrid                     47   \n",
       "1                    3        Remote                     52   \n",
       "2                   22        Hybrid                     46   \n",
       "3                   20        Onsite                     32   \n",
       "4                   32        Onsite                     35   \n",
       "\n",
       "   Number_of_Virtual_Meetings  Work_Life_Balance_Rating Stress_Level  \\\n",
       "0                           7                         2       Medium   \n",
       "1                           4                         1       Medium   \n",
       "2                          11                         5       Medium   \n",
       "3                           8                         4         High   \n",
       "4                          12                         2         High   \n",
       "\n",
       "  Mental_Health_Condition Access_to_Mental_Health_Resources  \\\n",
       "0              Depression                                No   \n",
       "1                 Anxiety                                No   \n",
       "2                 Anxiety                                No   \n",
       "3              Depression                               Yes   \n",
       "4                     NaN                               Yes   \n",
       "\n",
       "  Productivity_Change  Social_Isolation_Rating Satisfaction_with_Remote_Work  \\\n",
       "0            Decrease                        1                   Unsatisfied   \n",
       "1            Increase                        3                     Satisfied   \n",
       "2           No Change                        4                   Unsatisfied   \n",
       "3            Increase                        3                   Unsatisfied   \n",
       "4            Decrease                        3                   Unsatisfied   \n",
       "\n",
       "   Company_Support_for_Remote_Work Physical_Activity Sleep_Quality  \\\n",
       "0                                1            Weekly          Good   \n",
       "1                                2            Weekly          Good   \n",
       "2                                5               NaN          Poor   \n",
       "3                                3               NaN          Poor   \n",
       "4                                3            Weekly       Average   \n",
       "\n",
       "          Region  \n",
       "0         Europe  \n",
       "1           Asia  \n",
       "2  North America  \n",
       "3         Europe  \n",
       "4  North America  "
      ]
     },
     "execution_count": 3,
     "metadata": {},
     "output_type": "execute_result"
    }
   ],
   "source": [
    "file = \"kaggle/input/Impact_of_Remote_Work_on_Mental_Health.csv\"\n",
    "df = pd.read_csv(file, encoding=\"utf-8\")\n",
    "\n",
    "df.head()"
   ]
  },
  {
   "cell_type": "code",
   "execution_count": 10,
   "metadata": {},
   "outputs": [
    {
     "name": "stdout",
     "output_type": "stream",
     "text": [
      "<class 'pandas.core.frame.DataFrame'>\n",
      "RangeIndex: 5000 entries, 0 to 4999\n",
      "Data columns (total 20 columns):\n",
      " #   Column                             Non-Null Count  Dtype \n",
      "---  ------                             --------------  ----- \n",
      " 0   Employee_ID                        5000 non-null   object\n",
      " 1   Age                                5000 non-null   int64 \n",
      " 2   Gender                             5000 non-null   object\n",
      " 3   Job_Role                           5000 non-null   object\n",
      " 4   Industry                           5000 non-null   object\n",
      " 5   Years_of_Experience                5000 non-null   int64 \n",
      " 6   Work_Location                      5000 non-null   object\n",
      " 7   Hours_Worked_Per_Week              5000 non-null   int64 \n",
      " 8   Number_of_Virtual_Meetings         5000 non-null   int64 \n",
      " 9   Work_Life_Balance_Rating           5000 non-null   int64 \n",
      " 10  Stress_Level                       5000 non-null   object\n",
      " 11  Mental_Health_Condition            3804 non-null   object\n",
      " 12  Access_to_Mental_Health_Resources  5000 non-null   object\n",
      " 13  Productivity_Change                5000 non-null   object\n",
      " 14  Social_Isolation_Rating            5000 non-null   int64 \n",
      " 15  Satisfaction_with_Remote_Work      5000 non-null   object\n",
      " 16  Company_Support_for_Remote_Work    5000 non-null   int64 \n",
      " 17  Physical_Activity                  3371 non-null   object\n",
      " 18  Sleep_Quality                      5000 non-null   object\n",
      " 19  Region                             5000 non-null   object\n",
      "dtypes: int64(7), object(13)\n",
      "memory usage: 781.4+ KB\n"
     ]
    }
   ],
   "source": [
    "# Dataframe info\n",
    "df.info()"
   ]
  },
  {
   "cell_type": "markdown",
   "metadata": {},
   "source": [
    "## Dataset Descriptive Statistics"
   ]
  },
  {
   "cell_type": "code",
   "execution_count": 7,
   "metadata": {},
   "outputs": [
    {
     "name": "stdout",
     "output_type": "stream",
     "text": [
      "População\n",
      "----------------------------------------\n",
      "Total de pessoas: 5000\n",
      "Média de idade: 41\n",
      "Média de anos de experiência: 18\n"
     ]
    }
   ],
   "source": [
    "print('População')\n",
    "print('--'*20)\n",
    "print(f'Total de pessoas: {df.shape[0]}')\n",
    "print(f'Média de idade: {df[\"Age\"].mean():.0f}')\n",
    "print(f'Média de anos de experiência: {df[\"Years_of_Experience\"].mean():.0f}')"
   ]
  },
  {
   "cell_type": "code",
   "execution_count": 8,
   "metadata": {},
   "outputs": [
    {
     "name": "stdout",
     "output_type": "stream",
     "text": [
      "----------------------------------------\n"
     ]
    },
    {
     "data": {
      "image/png": "[encoded data removed]",
      "text/plain": [
       "<Figure size 1000x400 with 1 Axes>"
      ]
     },
     "metadata": {},
     "output_type": "display_data"
    },
    {
     "data": {
      "image/png": "[encoded data removed]",
      "text/plain": [
       "<Figure size 640x480 with 1 Axes>"
      ]
     },
     "metadata": {},
     "output_type": "display_data"
    },
    {
     "data": {
      "image/png": "[encoded data removed]",
      "text/plain": [
       "<Figure size 640x480 with 1 Axes>"
      ]
     },
     "metadata": {},
     "output_type": "display_data"
    }
   ],
   "source": [
    "print('--'*20)\n",
    "# Bar chart of region distribution using seaborn\n",
    "import seaborn as sns\n",
    "import matplotlib.pyplot as plt\n",
    "\n",
    "plt.figure(figsize=(10, 4))\n",
    "sns.countplot(data=df, y='Region')\n",
    "plt.title('Distribuição da população por região')\n",
    "plt.show()\n",
    "\n",
    "# Gender\n",
    "df.Gender.value_counts().plot.pie(autopct='%1.1f%%')\n",
    "plt.title('Distribuição de género')\n",
    "\n",
    "plt.show()\n",
    "\n",
    "# Work Location\n",
    "sns.countplot(data=df, y='Work_Location')\n",
    "plt.title('Local de trabalho')\n",
    "\n",
    "plt.show()"
   ]
  },
  {
   "cell_type": "code",
   "execution_count": 6,
   "metadata": {},
   "outputs": [
    {
     "data": {
      "text/html": [
       "<div>\n",
       "<style scoped>\n",
       "    .dataframe tbody tr th:only-of-type {\n",
       "        vertical-align: middle;\n",
       "    }\n",
       "\n",
       "    .dataframe tbody tr th {\n",
       "        vertical-align: top;\n",
       "    }\n",
       "\n",
       "    .dataframe thead th {\n",
       "        text-align: right;\n",
       "    }\n",
       "</style>\n",
       "<table border=\"1\" class=\"dataframe\">\n",
       "  <thead>\n",
       "    <tr style=\"text-align: right;\">\n",
       "      <th></th>\n",
       "      <th>Age</th>\n",
       "      <th>Years_of_Experience</th>\n",
       "      <th>Hours_Worked_Per_Week</th>\n",
       "      <th>Number_of_Virtual_Meetings</th>\n",
       "      <th>Work_Life_Balance_Rating</th>\n",
       "      <th>Social_Isolation_Rating</th>\n",
       "      <th>Company_Support_for_Remote_Work</th>\n",
       "    </tr>\n",
       "  </thead>\n",
       "  <tbody>\n",
       "    <tr>\n",
       "      <th>count</th>\n",
       "      <td>5000.000000</td>\n",
       "      <td>5000.000000</td>\n",
       "      <td>5000.000000</td>\n",
       "      <td>5000.000000</td>\n",
       "      <td>5000.000000</td>\n",
       "      <td>5000.000000</td>\n",
       "      <td>5000.000000</td>\n",
       "    </tr>\n",
       "    <tr>\n",
       "      <th>mean</th>\n",
       "      <td>40.995000</td>\n",
       "      <td>17.810200</td>\n",
       "      <td>39.614600</td>\n",
       "      <td>7.559000</td>\n",
       "      <td>2.984200</td>\n",
       "      <td>2.993800</td>\n",
       "      <td>3.007800</td>\n",
       "    </tr>\n",
       "    <tr>\n",
       "      <th>std</th>\n",
       "      <td>11.296021</td>\n",
       "      <td>10.020412</td>\n",
       "      <td>11.860194</td>\n",
       "      <td>4.636121</td>\n",
       "      <td>1.410513</td>\n",
       "      <td>1.394615</td>\n",
       "      <td>1.399046</td>\n",
       "    </tr>\n",
       "    <tr>\n",
       "      <th>min</th>\n",
       "      <td>22.000000</td>\n",
       "      <td>1.000000</td>\n",
       "      <td>20.000000</td>\n",
       "      <td>0.000000</td>\n",
       "      <td>1.000000</td>\n",
       "      <td>1.000000</td>\n",
       "      <td>1.000000</td>\n",
       "    </tr>\n",
       "    <tr>\n",
       "      <th>25%</th>\n",
       "      <td>31.000000</td>\n",
       "      <td>9.000000</td>\n",
       "      <td>29.000000</td>\n",
       "      <td>4.000000</td>\n",
       "      <td>2.000000</td>\n",
       "      <td>2.000000</td>\n",
       "      <td>2.000000</td>\n",
       "    </tr>\n",
       "    <tr>\n",
       "      <th>50%</th>\n",
       "      <td>41.000000</td>\n",
       "      <td>18.000000</td>\n",
       "      <td>40.000000</td>\n",
       "      <td>8.000000</td>\n",
       "      <td>3.000000</td>\n",
       "      <td>3.000000</td>\n",
       "      <td>3.000000</td>\n",
       "    </tr>\n",
       "    <tr>\n",
       "      <th>75%</th>\n",
       "      <td>51.000000</td>\n",
       "      <td>26.000000</td>\n",
       "      <td>50.000000</td>\n",
       "      <td>12.000000</td>\n",
       "      <td>4.000000</td>\n",
       "      <td>4.000000</td>\n",
       "      <td>4.000000</td>\n",
       "    </tr>\n",
       "    <tr>\n",
       "      <th>max</th>\n",
       "      <td>60.000000</td>\n",
       "      <td>35.000000</td>\n",
       "      <td>60.000000</td>\n",
       "      <td>15.000000</td>\n",
       "      <td>5.000000</td>\n",
       "      <td>5.000000</td>\n",
       "      <td>5.000000</td>\n",
       "    </tr>\n",
       "  </tbody>\n",
       "</table>\n",
       "</div>"
      ],
      "text/plain": [
       "               Age  Years_of_Experience  Hours_Worked_Per_Week  \\\n",
       "count  5000.000000          5000.000000            5000.000000   \n",
       "mean     40.995000            17.810200              39.614600   \n",
       "std      11.296021            10.020412              11.860194   \n",
       "min      22.000000             1.000000              20.000000   \n",
       "25%      31.000000             9.000000              29.000000   \n",
       "50%      41.000000            18.000000              40.000000   \n",
       "75%      51.000000            26.000000              50.000000   \n",
       "max      60.000000            35.000000              60.000000   \n",
       "\n",
       "       Number_of_Virtual_Meetings  Work_Life_Balance_Rating  \\\n",
       "count                 5000.000000               5000.000000   \n",
       "mean                     7.559000                  2.984200   \n",
       "std                      4.636121                  1.410513   \n",
       "min                      0.000000                  1.000000   \n",
       "25%                      4.000000                  2.000000   \n",
       "50%                      8.000000                  3.000000   \n",
       "75%                     12.000000                  4.000000   \n",
       "max                     15.000000                  5.000000   \n",
       "\n",
       "       Social_Isolation_Rating  Company_Support_for_Remote_Work  \n",
       "count              5000.000000                      5000.000000  \n",
       "mean                  2.993800                         3.007800  \n",
       "std                   1.394615                         1.399046  \n",
       "min                   1.000000                         1.000000  \n",
       "25%                   2.000000                         2.000000  \n",
       "50%                   3.000000                         3.000000  \n",
       "75%                   4.000000                         4.000000  \n",
       "max                   5.000000                         5.000000  "
      ]
     },
     "execution_count": 6,
     "metadata": {},
     "output_type": "execute_result"
    }
   ],
   "source": [
    "# Dataframe describe\n",
    "df.describe()"
   ]
  },
  {
   "cell_type": "markdown",
   "metadata": {},
   "source": [
    "## Data Cleaning"
   ]
  },
  {
   "cell_type": "code",
   "execution_count": 57,
   "metadata": {},
   "outputs": [
    {
     "name": "stdout",
     "output_type": "stream",
     "text": [
      "Verificar se existem valores nulos\n",
      "----------------------------------------\n"
     ]
    },
    {
     "data": {
      "text/plain": [
       "Employee_ID                             0\n",
       "Age                                     0\n",
       "Gender                                  0\n",
       "Job_Role                                0\n",
       "Industry                                0\n",
       "Years_of_Experience                     0\n",
       "Work_Location                           0\n",
       "Hours_Worked_Per_Week                   0\n",
       "Number_of_Virtual_Meetings              0\n",
       "Work_Life_Balance_Rating                0\n",
       "Stress_Level                            0\n",
       "Mental_Health_Condition              1196\n",
       "Access_to_Mental_Health_Resources       0\n",
       "Productivity_Change                     0\n",
       "Social_Isolation_Rating                 0\n",
       "Satisfaction_with_Remote_Work           0\n",
       "Company_Support_for_Remote_Work         0\n",
       "Physical_Activity                    1629\n",
       "Sleep_Quality                           0\n",
       "Region                                  0\n",
       "dtype: int64"
      ]
     },
     "execution_count": 57,
     "metadata": {},
     "output_type": "execute_result"
    }
   ],
   "source": [
    "print('Verificar se existem valores nulos')\n",
    "print('--'*20)\n",
    "df.isna().sum()"
   ]
  },
  {
   "cell_type": "markdown",
   "metadata": {},
   "source": [
    "There are empty values for the columns Mental_Health_Condition and Physical_Activity.\n",
    "\n",
    "These values make sense, as they mean absence of mental health condition and absence of physical activity.\n",
    "\n",
    "Thus, we will fill these empty values with the string \"None\"."
   ]
  },
  {
   "cell_type": "markdown",
   "metadata": {},
   "source": [
    "## Plotting"
   ]
  },
  {
   "cell_type": "code",
   "execution_count": null,
   "metadata": {},
   "outputs": [],
   "source": []
  },
  {
   "cell_type": "markdown",
   "metadata": {},
   "source": [
    "## Model Selection, Feature Engineering, and Normalization"
   ]
  },
  {
   "cell_type": "code",
   "execution_count": null,
   "metadata": {},
   "outputs": [],
   "source": []
  },
  {
   "cell_type": "markdown",
   "metadata": {},
   "source": [
    "## Machine Learning"
   ]
  },
  {
   "cell_type": "code",
   "execution_count": null,
   "metadata": {},
   "outputs": [],
   "source": []
  }
 ],
 "metadata": {
  "kernelspec": {
   "display_name": "Python 3",
   "language": "python",
   "name": "python3"
  },
  "language_info": {
   "codemirror_mode": {
    "name": "ipython",
    "version": 3
   },
   "file_extension": ".py",
   "mimetype": "text/x-python",
   "name": "python",
   "nbconvert_exporter": "python",
   "pygments_lexer": "ipython3",
   "version": "3.12.5"
  }
 },
 "nbformat": 4,
 "nbformat_minor": 2
}
